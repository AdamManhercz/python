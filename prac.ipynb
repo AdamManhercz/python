{
 "cells": [
  {
   "cell_type": "code",
   "execution_count": 20,
   "metadata": {},
   "outputs": [],
   "source": [
    "from typing import Optional\n",
    "from dataclasses import dataclass, field\n",
    "\n",
    "class Student(Library):\n",
    "    \"\"\"Creates the actions of the students\"\"\"\n",
    "\n",
    "    def __init__(self, name: str, year: str) -> None:\n",
    "        self.name = name\n",
    "        self.year = year\n",
    "        self.balance = 0\n",
    "        self.loaned_books = {}\n",
    "\n",
    "        super().__init__()\n",
    "\n",
    "    def __str__(self) -> str:\n",
    "        \"\"\"Displays the actual information about the student\"\"\"\n",
    "        return f\"Name: {self.name}\\nClass: {self.year}\\nBalance: ${self.balance}\\nLoaned books: {self.loaned_books}\"\n",
    "\n",
    "\n",
    "class Library:\n",
    "    \"\"\"Creates the operations of the library\"\"\"\n",
    "\n",
    "    def __init__(self) -> None:\n",
    "        \n",
    "        self.collection = {}\n",
    "        self.registrated = {}"
   ]
  },
  {
   "cell_type": "code",
   "execution_count": 23,
   "metadata": {},
   "outputs": [],
   "source": [
    "bob = Stud(\"Tom Jerry\", 2023)"
   ]
  },
  {
   "cell_type": "code",
   "execution_count": 24,
   "metadata": {},
   "outputs": [
    {
     "data": {
      "text/plain": [
       "{'name': 'Tom Jerry', 'grade': 2023, 'account': 0, 'loaned_books': {}}"
      ]
     },
     "execution_count": 24,
     "metadata": {},
     "output_type": "execute_result"
    }
   ],
   "source": [
    "bob.__dict__"
   ]
  },
  {
   "cell_type": "code",
   "execution_count": 67,
   "metadata": {},
   "outputs": [],
   "source": [
    "from datetime import datetime\n",
    "from dataclasses import dataclass, field\n",
    "\n",
    "@dataclass\n",
    "class Library:\n",
    "    \"\"\"Creates the operations of the library\"\"\"\n",
    "\n",
    "    #def __init__(self) -> None:\n",
    "\n",
    "    collection: dict = field(default_factory=dict)\n",
    "    registrated: dict = field(default_factory=dict)\n",
    "\n",
    "    def registrate(self, student: Student):\n",
    "        \"\"\"Student registration\"\"\"\n",
    "\n",
    "        # Creates the dictionary about the student data for the library\n",
    "        # Dict -> Name: Class, Balance, Loan informations\n",
    "        student = student.__dict__\n",
    "\n",
    "        self.registrated[student[\"name\"]] = {\n",
    "            \"class\": student[\"year\"],\n",
    "            \"balance\": student[\"balance\"],\n",
    "            \"loaned_books\": student[\"loaned_books\"],\n",
    "        }\n",
    "\n",
    "        print(\n",
    "            \"{} from class of {} is registrated\".format(\n",
    "                student[\"name\"], student[\"year\"]\n",
    "            )\n",
    "        )\n",
    "        print(\"Library balance: ${}\".format(student[\"balance\"]))\n",
    "\n",
    "    def add_book(self, book: str, info: dict) -> None:\n",
    "        \"\"\"Add books to the library\"\"\"\n",
    "\n",
    "        self.collection[book] = info\n",
    "\n",
    "    def remove_book(self, book: str) -> None:\n",
    "        \"\"\"Remove books from the library\"\"\"\n",
    "\n",
    "        del self.collection[book]\n",
    "\n",
    "@dataclass\n",
    "class Student:\n",
    "    \"\"\"Creates the actions of the students\"\"\"\n",
    "\n",
    "    name: str\n",
    "    year: int \n",
    "    info: Library\n",
    "    loaned_books: dict = field(default_factory=dict)\n",
    "    balance: int = 0\n",
    "\n",
    "    def __str__(self) -> str:\n",
    "        \"\"\"Displays the actual information about the student\"\"\"\n",
    "        \n",
    "        return f\"Name: {self.name}\\nClass: {self.year}\\nBalance: ${self.balance}\\nLoaned books: {self.loaned_books}\"\n",
    "\n",
    "    def deposit_money(self, money):\n",
    "        \"\"\"Student deposit on the account\"\"\"\n",
    "\n",
    "        self.balance += money\n",
    "\n",
    "        return f\"Your balance: ${self.balance}\"\n",
    "\n",
    "    def loan_book(self, books: list, date: str):\n",
    "        \"\"\"Loaning process\"\"\"\n",
    "        \"\"\"Argument \"books\" type is list if the loan request contains several books \"\"\"\n",
    "\n",
    "        if self.name not in self.info.registrated or self.balance < 0:\n",
    "\n",
    "            return f\"{self.name} is not registrated in the system yet or your balance is negative. Please contact with the reception\"\n",
    "\n",
    "        elif len(books) > 10:\n",
    "\n",
    "            return f\"Maximum number of loan request is 10!\\n Your request number: {len(books)}\"\n",
    "\n",
    "        for book in books:\n",
    "\n",
    "            loaned = []  # collect the available book\n",
    "            if book in self.info.collection:\n",
    "\n",
    "                loaned.append(book)  # add the available book to the list\n",
    "\n",
    "                # register the loan details(book and date) the student side\n",
    "                self.loaned_books[book] = self.info.collection[book]\n",
    "                self.loaned_books[book][\"loan_date\"] = datetime.strptime(\n",
    "                    date, \"%Y-%m-%w\"\n",
    "                )\n",
    "                # register the loan details(book and date) the library side\n",
    "                self.info.registrated[self.name][\"loaned_books\"][book] = self.info.collection[book]\n",
    "                self.info.registrated[self.name][\"loaned_books\"][book][\n",
    "                    \"loan_date\"\n",
    "                ] = datetime.strptime(date, \"%Y-%m-%w\")\n",
    "\n",
    "                # remove the book temporarely from the library\n",
    "                self.info.remove_book(book)\n",
    "\n",
    "            print(f\"The book {book} is not available!\")\n",
    "\n",
    "        return f\"Successfully loaned:{loaned}\"\n",
    "\n",
    "    def return_book(self, books: list, date: str):  # argument \"books\"\n",
    "        \"\"\"Book returning process\"\"\"\n",
    "        \"\"\"Argument \"books\" type is list if the returning process contains several books \"\"\"\n",
    "\n",
    "        for book in books:\n",
    "\n",
    "            if book in self.info.registrated[self.name][\"loaned_books\"]:\n",
    "\n",
    "                loan_date = self.info.registrated[self.name][\"loaned_books\"][\n",
    "                    \"loan_date\"\n",
    "                ]  # start date of the loan\n",
    "                return_date = datetime.strptime(date, \"%Y-%m-%w\")  # return date\n",
    "\n",
    "                diff = return_date - loan_date  # difference start date and return date\n",
    "\n",
    "                # book get back to the library\n",
    "                self.info.add_book(book, self.info.registrated[self.name][\"loaned_books\"][book])\n",
    "\n",
    "                # loaned book and its loan date is getting deleted from the system\n",
    "                del self.info.registrated[self.name][\"loaned_books\"][book]\n",
    "                del self.info.registrated[self.name][\"loaned_books\"][book][\"loan_date\"]\n",
    "\n",
    "                del self.loaned_books[book]\n",
    "                del self.loaned_books[book][\"loan_date\"]\n",
    "\n",
    "                # if the loaning time exceeds the 30 day rule\n",
    "                if diff > 30:\n",
    "\n",
    "                    self.balance -= diff\n",
    "\n",
    "            print(f\"The book {book} has not been loaned yet!\")\n",
    "\n",
    "        print(f\"Return is successfully processed!\")"
   ]
  },
  {
   "cell_type": "code",
   "execution_count": 68,
   "metadata": {},
   "outputs": [
    {
     "name": "stdout",
     "output_type": "stream",
     "text": [
      "Tom Jerry from class of 2023 is registrated\n",
      "Library balance: $0\n"
     ]
    }
   ],
   "source": [
    "library = Library()\n",
    "tom = Student(\"Tom Jerry\", 2023, library)\n",
    "\n",
    "library.registrate(tom)"
   ]
  },
  {
   "cell_type": "code",
   "execution_count": 69,
   "metadata": {},
   "outputs": [
    {
     "data": {
      "text/plain": [
       "{'Tom Jerry': {'class': 2023, 'balance': 0, 'loaned_books': {}}}"
      ]
     },
     "execution_count": 69,
     "metadata": {},
     "output_type": "execute_result"
    }
   ],
   "source": [
    "library.registrated"
   ]
  },
  {
   "cell_type": "code",
   "execution_count": 70,
   "metadata": {},
   "outputs": [],
   "source": [
    "library.add_book(\"Harry Potter\", {\"date\":2001,\"genre\":\"fantasy\"})"
   ]
  },
  {
   "cell_type": "code",
   "execution_count": 71,
   "metadata": {},
   "outputs": [
    {
     "data": {
      "text/plain": [
       "{'Harry Potter': {'date': 2001, 'genre': 'fantasy'}}"
      ]
     },
     "execution_count": 71,
     "metadata": {},
     "output_type": "execute_result"
    }
   ],
   "source": [
    "library.collection"
   ]
  },
  {
   "cell_type": "code",
   "execution_count": 72,
   "metadata": {},
   "outputs": [
    {
     "ename": "ValueError",
     "evalue": "unconverted data remains: 4",
     "output_type": "error",
     "traceback": [
      "\u001b[1;31m---------------------------------------------------------------------------\u001b[0m",
      "\u001b[1;31mValueError\u001b[0m                                Traceback (most recent call last)",
      "Cell \u001b[1;32mIn [72], line 1\u001b[0m\n\u001b[1;32m----> 1\u001b[0m tom\u001b[39m.\u001b[39;49mloan_book([\u001b[39m\"\u001b[39;49m\u001b[39mHarry Potter\u001b[39;49m\u001b[39m\"\u001b[39;49m], \u001b[39m\"\u001b[39;49m\u001b[39m2023-01-24\u001b[39;49m\u001b[39m\"\u001b[39;49m)\n",
      "Cell \u001b[1;32mIn [67], line 86\u001b[0m, in \u001b[0;36mStudent.loan_book\u001b[1;34m(self, books, date)\u001b[0m\n\u001b[0;32m     84\u001b[0m \u001b[39m# register the loan details(book and date) the student side\u001b[39;00m\n\u001b[0;32m     85\u001b[0m \u001b[39mself\u001b[39m\u001b[39m.\u001b[39mloaned_books[book] \u001b[39m=\u001b[39m \u001b[39mself\u001b[39m\u001b[39m.\u001b[39minfo\u001b[39m.\u001b[39mcollection[book]\n\u001b[1;32m---> 86\u001b[0m \u001b[39mself\u001b[39m\u001b[39m.\u001b[39mloaned_books[book][\u001b[39m\"\u001b[39m\u001b[39mloan_date\u001b[39m\u001b[39m\"\u001b[39m] \u001b[39m=\u001b[39m datetime\u001b[39m.\u001b[39;49mstrptime(\n\u001b[0;32m     87\u001b[0m     date, \u001b[39m\"\u001b[39;49m\u001b[39m%\u001b[39;49m\u001b[39mY-\u001b[39;49m\u001b[39m%\u001b[39;49m\u001b[39mm-\u001b[39;49m\u001b[39m%\u001b[39;49m\u001b[39mw\u001b[39;49m\u001b[39m\"\u001b[39;49m\n\u001b[0;32m     88\u001b[0m )\n\u001b[0;32m     89\u001b[0m \u001b[39m# register the loan details(book and date) the library side\u001b[39;00m\n\u001b[0;32m     90\u001b[0m \u001b[39mself\u001b[39m\u001b[39m.\u001b[39minfo\u001b[39m.\u001b[39mregistrated[\u001b[39mself\u001b[39m\u001b[39m.\u001b[39mname][\u001b[39m\"\u001b[39m\u001b[39mloaned_books\u001b[39m\u001b[39m\"\u001b[39m][book] \u001b[39m=\u001b[39m \u001b[39mself\u001b[39m\u001b[39m.\u001b[39minfo\u001b[39m.\u001b[39mcollection[book]\n",
      "File \u001b[1;32mC:\\Program Files\\WindowsApps\\PythonSoftwareFoundation.Python.3.10_3.10.2544.0_x64__qbz5n2kfra8p0\\lib\\_strptime.py:568\u001b[0m, in \u001b[0;36m_strptime_datetime\u001b[1;34m(cls, data_string, format)\u001b[0m\n\u001b[0;32m    565\u001b[0m \u001b[39mdef\u001b[39;00m \u001b[39m_strptime_datetime\u001b[39m(\u001b[39mcls\u001b[39m, data_string, \u001b[39mformat\u001b[39m\u001b[39m=\u001b[39m\u001b[39m\"\u001b[39m\u001b[39m%a\u001b[39;00m\u001b[39m \u001b[39m\u001b[39m%\u001b[39m\u001b[39mb \u001b[39m\u001b[39m%d\u001b[39;00m\u001b[39m \u001b[39m\u001b[39m%\u001b[39m\u001b[39mH:\u001b[39m\u001b[39m%\u001b[39m\u001b[39mM:\u001b[39m\u001b[39m%\u001b[39m\u001b[39mS \u001b[39m\u001b[39m%\u001b[39m\u001b[39mY\u001b[39m\u001b[39m\"\u001b[39m):\n\u001b[0;32m    566\u001b[0m     \u001b[39m\"\"\"Return a class cls instance based on the input string and the\u001b[39;00m\n\u001b[0;32m    567\u001b[0m \u001b[39m    format string.\"\"\"\u001b[39;00m\n\u001b[1;32m--> 568\u001b[0m     tt, fraction, gmtoff_fraction \u001b[39m=\u001b[39m _strptime(data_string, \u001b[39mformat\u001b[39;49m)\n\u001b[0;32m    569\u001b[0m     tzname, gmtoff \u001b[39m=\u001b[39m tt[\u001b[39m-\u001b[39m\u001b[39m2\u001b[39m:]\n\u001b[0;32m    570\u001b[0m     args \u001b[39m=\u001b[39m tt[:\u001b[39m6\u001b[39m] \u001b[39m+\u001b[39m (fraction,)\n",
      "File \u001b[1;32mC:\\Program Files\\WindowsApps\\PythonSoftwareFoundation.Python.3.10_3.10.2544.0_x64__qbz5n2kfra8p0\\lib\\_strptime.py:352\u001b[0m, in \u001b[0;36m_strptime\u001b[1;34m(data_string, format)\u001b[0m\n\u001b[0;32m    349\u001b[0m     \u001b[39mraise\u001b[39;00m \u001b[39mValueError\u001b[39;00m(\u001b[39m\"\u001b[39m\u001b[39mtime data \u001b[39m\u001b[39m%r\u001b[39;00m\u001b[39m does not match format \u001b[39m\u001b[39m%r\u001b[39;00m\u001b[39m\"\u001b[39m \u001b[39m%\u001b[39m\n\u001b[0;32m    350\u001b[0m                      (data_string, \u001b[39mformat\u001b[39m))\n\u001b[0;32m    351\u001b[0m \u001b[39mif\u001b[39;00m \u001b[39mlen\u001b[39m(data_string) \u001b[39m!=\u001b[39m found\u001b[39m.\u001b[39mend():\n\u001b[1;32m--> 352\u001b[0m     \u001b[39mraise\u001b[39;00m \u001b[39mValueError\u001b[39;00m(\u001b[39m\"\u001b[39m\u001b[39munconverted data remains: \u001b[39m\u001b[39m%s\u001b[39;00m\u001b[39m\"\u001b[39m \u001b[39m%\u001b[39m\n\u001b[0;32m    353\u001b[0m                       data_string[found\u001b[39m.\u001b[39mend():])\n\u001b[0;32m    355\u001b[0m iso_year \u001b[39m=\u001b[39m year \u001b[39m=\u001b[39m \u001b[39mNone\u001b[39;00m\n\u001b[0;32m    356\u001b[0m month \u001b[39m=\u001b[39m day \u001b[39m=\u001b[39m \u001b[39m1\u001b[39m\n",
      "\u001b[1;31mValueError\u001b[0m: unconverted data remains: 4"
     ]
    }
   ],
   "source": [
    "tom.loan_book([\"Harry Potter\"], \"2023-01-24\")"
   ]
  },
  {
   "cell_type": "code",
   "execution_count": 73,
   "metadata": {},
   "outputs": [
    {
     "data": {
      "text/plain": [
       "True"
      ]
     },
     "execution_count": 73,
     "metadata": {},
     "output_type": "execute_result"
    }
   ],
   "source": [
    "'Tom Jerry' in library.registrated"
   ]
  },
  {
   "cell_type": "code",
   "execution_count": 74,
   "metadata": {},
   "outputs": [
    {
     "data": {
      "text/plain": [
       "{'Tom Jerry': {'class': 2023,\n",
       "  'balance': 0,\n",
       "  'loaned_books': {'Harry Potter': {'date': 2001, 'genre': 'fantasy'}}}}"
      ]
     },
     "execution_count": 74,
     "metadata": {},
     "output_type": "execute_result"
    }
   ],
   "source": [
    "tom.info.registrated"
   ]
  },
  {
   "cell_type": "code",
   "execution_count": null,
   "metadata": {},
   "outputs": [],
   "source": []
  }
 ],
 "metadata": {
  "kernelspec": {
   "display_name": "Python 3",
   "language": "python",
   "name": "python3"
  },
  "language_info": {
   "codemirror_mode": {
    "name": "ipython",
    "version": 3
   },
   "file_extension": ".py",
   "mimetype": "text/x-python",
   "name": "python",
   "nbconvert_exporter": "python",
   "pygments_lexer": "ipython3",
   "version": "3.10.9"
  },
  "orig_nbformat": 4,
  "vscode": {
   "interpreter": {
    "hash": "515bd2e36c6c5dd4dc5855383c52a1144108fc4e9eb7dd993288fdbc9d6f21fa"
   }
  }
 },
 "nbformat": 4,
 "nbformat_minor": 2
}
