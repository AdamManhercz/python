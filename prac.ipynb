{
 "cells": [
  {
   "cell_type": "code",
   "execution_count": 257,
   "metadata": {},
   "outputs": [],
   "source": [
    "from datetime import datetime\n",
    "from dataclasses import dataclass, field\n",
    "\n",
    "@dataclass\n",
    "class Library:\n",
    "    \"\"\"Creates the operations of the library\"\"\"\n",
    "\n",
    "    #def __init__(self) -> None:\n",
    "\n",
    "    collection: dict = field(default_factory=dict)\n",
    "    registrated: dict = field(default_factory=dict)\n",
    "\n",
    "    def registrate(self, student: Student):\n",
    "        \"\"\"Student registration\"\"\"\n",
    "\n",
    "        # Creates the dictionary about the student data for the library\n",
    "        # Dict -> Name: Class, Balance, Loan informations\n",
    "        student = student.__dict__\n",
    "\n",
    "        self.registrated[student[\"name\"]] = {\n",
    "            \"class\": student[\"year\"],\n",
    "            \"balance\": student[\"balance\"],\n",
    "            \"loaned_books\": student[\"loaned_books\"],\n",
    "        }\n",
    "\n",
    "        print(\n",
    "            \"{} from class of {} is registrated\".format(\n",
    "                student[\"name\"], student[\"year\"]\n",
    "            )\n",
    "        )\n",
    "        print(\"Library balance: ${}\".format(student[\"balance\"]))\n",
    "\n",
    "    def add_book(self, book: str, info: dict) -> None:\n",
    "        \"\"\"Add books to the library\"\"\"\n",
    "\n",
    "        self.collection[book] = info\n",
    "\n",
    "    def remove_book(self, book: str) -> None:\n",
    "        \"\"\"Remove books from the library\"\"\"\n",
    "\n",
    "        del self.collection[book]\n",
    "\n",
    "@dataclass\n",
    "class Student:\n",
    "    \"\"\"Creates the actions of the students\"\"\"\n",
    "\n",
    "    name: str\n",
    "    year: int \n",
    "    info: Library\n",
    "    loaned_books: dict = field(default_factory=dict)\n",
    "    balance: int = 0\n",
    "\n",
    "    def __str__(self) -> str:\n",
    "        \"\"\"Displays the actual information about the student\"\"\"\n",
    "        \n",
    "        return f\"Name: {self.name}\\nClass: {self.year}\\nBalance: ${self.balance}\\nLoaned books: {self.loaned_books}\"\n",
    "\n",
    "    def deposit_money(self, money):\n",
    "        \"\"\"Student deposit on the account\"\"\"\n",
    "\n",
    "        self.balance += money\n",
    "\n",
    "        return f\"Your balance: ${self.balance}\"\n",
    "\n",
    "    def loan_book(self, books: list, date: str):\n",
    "        \"\"\"Loaning process\"\"\"\n",
    "        \"\"\"Argument \"books\" type is list if the loan request contains several books \"\"\"\n",
    "\n",
    "        if self.name not in self.info.registrated or self.balance < 0:\n",
    "\n",
    "            return f\"{self.name} is not registrated in the system yet or your balance is negative. Please contact with the reception\"\n",
    "\n",
    "        elif len(books) > 10:\n",
    "\n",
    "            return f\"Maximum number of loan request is 10!\\n Your request number: {len(books)}\"\n",
    "\n",
    "        for book in books:\n",
    "\n",
    "            loaned = []  # collect the available book\n",
    "            if book in self.info.collection:\n",
    "\n",
    "                loaned.append(book)  # add the available book to the list\n",
    "\n",
    "                # register the loan details(book and date) the student side\n",
    "                self.loaned_books[book] = self.info.collection[book]\n",
    "                self.loaned_books[book][\"loan_date\"] = datetime.strptime(date,\"%Y-%m-%d\") \n",
    "                # register the loan details(book and date) the library side\n",
    "                self.info.registrated[self.name][\"loaned_books\"][book] = self.info.collection[book]\n",
    "                self.info.registrated[self.name][\"loaned_books\"][book][\n",
    "                    \"loan_date\"\n",
    "                ] = datetime.strptime(date,\"%Y-%m-%d\")\n",
    "\n",
    "                # remove the book temporarely from the library\n",
    "                self.info.remove_book(book)\n",
    "            else:\n",
    "                return f\"The book {book} is not available!\"\n",
    "\n",
    "        return f\"Successfully loaned:{loaned}\"\n",
    "\n",
    "    def return_book(self, books: list, date: str):  # argument \"books\"\n",
    "        \"\"\"Book returning process\"\"\"\n",
    "        \"\"\"Argument \"books\" type is list if the returning process contains several books\"\"\"\n",
    "\n",
    "        for book in books:\n",
    "\n",
    "            if book in self.info.registrated[self.name][\"loaned_books\"]:\n",
    "\n",
    "                loan_date = self.info.registrated[self.name][\"loaned_books\"][book][\"loan_date\"]   # start date of the loan\n",
    "                return_date = datetime.strptime(date, \"%Y-%m-%d\")  # return date\n",
    "\n",
    "                diff = (return_date - loan_date).days # difference between start and return date\n",
    "\n",
    "                # remove the loan_date element from the loaned book\n",
    "                self.info.registrated[self.name][\"loaned_books\"][book].pop(\"loan_date\")\n",
    "\n",
    "                # book get back to the library\n",
    "                self.info.add_book(book, self.info.registrated[self.name][\"loaned_books\"][book])\n",
    "\n",
    "                # loaned book and its loan date is getting deleted from the system\n",
    "                self.info.registrated[self.name][\"loaned_books\"].pop(book)\n",
    "\n",
    "                #print(self.loaned_books)\n",
    "                #print(self.info.registrated[self.name][\"loaned_books\"])\n",
    "#\n",
    "                #self.loaned_books.pop(book)\n",
    "#\n",
    "                # if the loaning time exceeds the 30 day rule\n",
    "                if diff > 30:\n",
    "\n",
    "                    self.balance -= diff\n",
    "                    return f\"Due to the exceeding of the 30 return limit your balance is charged with ${diff}!\" \n",
    "\n",
    "            else:\n",
    "                return f\"The book {book} has not been loaned yet!\"\n",
    "\n",
    "        return f\"Return is successfully processed!\""
   ]
  },
  {
   "cell_type": "code",
   "execution_count": 258,
   "metadata": {},
   "outputs": [
    {
     "name": "stdout",
     "output_type": "stream",
     "text": [
      "Tom Jerry from class of 2023 is registrated\n",
      "Library balance: $0\n"
     ]
    }
   ],
   "source": [
    "library = Library()\n",
    "tom = Student(\"Tom Jerry\", 2023, library)\n",
    "\n",
    "library.registrate(tom)"
   ]
  },
  {
   "cell_type": "code",
   "execution_count": 259,
   "metadata": {},
   "outputs": [
    {
     "data": {
      "text/plain": [
       "{'Tom Jerry': {'class': 2023, 'balance': 0, 'loaned_books': {}}}"
      ]
     },
     "execution_count": 259,
     "metadata": {},
     "output_type": "execute_result"
    }
   ],
   "source": [
    "library.registrated"
   ]
  },
  {
   "cell_type": "code",
   "execution_count": 260,
   "metadata": {},
   "outputs": [],
   "source": [
    "library.add_book(\"Harry Potter\", {\"date\":2001,\"genre\":\"fantasy\"})"
   ]
  },
  {
   "cell_type": "code",
   "execution_count": 261,
   "metadata": {},
   "outputs": [
    {
     "data": {
      "text/plain": [
       "{'Harry Potter': {'date': 2001, 'genre': 'fantasy'}}"
      ]
     },
     "execution_count": 261,
     "metadata": {},
     "output_type": "execute_result"
    }
   ],
   "source": [
    "library.collection"
   ]
  },
  {
   "cell_type": "code",
   "execution_count": 262,
   "metadata": {},
   "outputs": [
    {
     "data": {
      "text/plain": [
       "\"Successfully loaned:['Harry Potter']\""
      ]
     },
     "execution_count": 262,
     "metadata": {},
     "output_type": "execute_result"
    }
   ],
   "source": [
    "tom.loan_book([\"Harry Potter\"], \"2023-01-24\")"
   ]
  },
  {
   "cell_type": "code",
   "execution_count": 263,
   "metadata": {},
   "outputs": [
    {
     "data": {
      "text/plain": [
       "True"
      ]
     },
     "execution_count": 263,
     "metadata": {},
     "output_type": "execute_result"
    }
   ],
   "source": [
    "'Tom Jerry' in library.registrated"
   ]
  },
  {
   "cell_type": "code",
   "execution_count": 264,
   "metadata": {},
   "outputs": [
    {
     "data": {
      "text/plain": [
       "{'Tom Jerry': {'class': 2023,\n",
       "  'balance': 0,\n",
       "  'loaned_books': {'Harry Potter': {'date': 2001,\n",
       "    'genre': 'fantasy',\n",
       "    'loan_date': datetime.datetime(2023, 1, 24, 0, 0)}}}}"
      ]
     },
     "execution_count": 264,
     "metadata": {},
     "output_type": "execute_result"
    }
   ],
   "source": [
    "tom.info.registrated"
   ]
  },
  {
   "cell_type": "code",
   "execution_count": 265,
   "metadata": {},
   "outputs": [
    {
     "name": "stdout",
     "output_type": "stream",
     "text": [
      "Name: Tom Jerry\n",
      "Class: 2023\n",
      "Balance: $0\n",
      "Loaned books: {'Harry Potter': {'date': 2001, 'genre': 'fantasy', 'loan_date': datetime.datetime(2023, 1, 24, 0, 0)}}\n"
     ]
    }
   ],
   "source": [
    "print(tom)"
   ]
  },
  {
   "cell_type": "code",
   "execution_count": 267,
   "metadata": {},
   "outputs": [
    {
     "data": {
      "text/plain": [
       "'Due to the exceeding of the 30 return limit your balance is charged with $59!'"
      ]
     },
     "execution_count": 267,
     "metadata": {},
     "output_type": "execute_result"
    }
   ],
   "source": [
    "tom.return_book([\"Harry Potter\"], \"2023-03-24\")"
   ]
  },
  {
   "cell_type": "code",
   "execution_count": 190,
   "metadata": {},
   "outputs": [
    {
     "data": {
      "text/plain": [
       "{'Tom Jerry': {'class': 2023, 'balance': 0, 'loaned_books': {}}}"
      ]
     },
     "execution_count": 190,
     "metadata": {},
     "output_type": "execute_result"
    }
   ],
   "source": [
    "library.registrated"
   ]
  },
  {
   "cell_type": "code",
   "execution_count": 191,
   "metadata": {},
   "outputs": [
    {
     "data": {
      "text/plain": [
       "{'Harry Potter': {'date': 2001, 'genre': 'fantasy'}}"
      ]
     },
     "execution_count": 191,
     "metadata": {},
     "output_type": "execute_result"
    }
   ],
   "source": [
    "library.collection"
   ]
  },
  {
   "cell_type": "code",
   "execution_count": 268,
   "metadata": {},
   "outputs": [
    {
     "name": "stdout",
     "output_type": "stream",
     "text": [
      "Name: Tom Jerry\n",
      "Class: 2023\n",
      "Balance: $-59\n",
      "Loaned books: {}\n"
     ]
    }
   ],
   "source": [
    "print(tom)"
   ]
  },
  {
   "cell_type": "code",
   "execution_count": 269,
   "metadata": {},
   "outputs": [
    {
     "data": {
      "text/plain": [
       "'Tom Jerry is not registrated in the system yet or your balance is negative. Please contact with the reception'"
      ]
     },
     "execution_count": 269,
     "metadata": {},
     "output_type": "execute_result"
    }
   ],
   "source": [
    "tom.loan_book([\"Harry Potter\"], \"2023-01-25\")"
   ]
  },
  {
   "cell_type": "code",
   "execution_count": null,
   "metadata": {},
   "outputs": [],
   "source": []
  }
 ],
 "metadata": {
  "kernelspec": {
   "display_name": "Python 3",
   "language": "python",
   "name": "python3"
  },
  "language_info": {
   "codemirror_mode": {
    "name": "ipython",
    "version": 3
   },
   "file_extension": ".py",
   "mimetype": "text/x-python",
   "name": "python",
   "nbconvert_exporter": "python",
   "pygments_lexer": "ipython3",
   "version": "3.10.9"
  },
  "orig_nbformat": 4,
  "vscode": {
   "interpreter": {
    "hash": "515bd2e36c6c5dd4dc5855383c52a1144108fc4e9eb7dd993288fdbc9d6f21fa"
   }
  }
 },
 "nbformat": 4,
 "nbformat_minor": 2
}
